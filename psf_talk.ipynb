{
 "cells": [
  {
   "cell_type": "markdown",
   "id": "f34d8740-a9e6-4bd8-9aa8-e5b5a0764e86",
   "metadata": {
    "slideshow": {
     "slide_type": "slide"
    },
    "tags": []
   },
   "source": [
    "# High-precision numerical integration with Taylor methods\n",
    "\n",
    "## Francesco Biscani (MPIA), Dario Izzo (ESA)"
   ]
  },
  {
   "cell_type": "markdown",
   "id": "c7611add",
   "metadata": {
    "slideshow": {
     "slide_type": "slide"
    }
   },
   "source": [
    "# Outline\n",
    "\n",
    "1. Quick primer on Taylor methods\n",
    "2. Comparison with other integrators\n",
    "3. Examples"
   ]
  },
  {
   "cell_type": "markdown",
   "id": "aaa0ce42",
   "metadata": {
    "slideshow": {
     "slide_type": "slide"
    }
   },
   "source": [
    "# Taylor methods\n",
    "\n",
    "* Piecewise approximation of the solution via its Taylor series\n",
    "* Mathematically elegant, conceptually simple\n",
    "* Straightforward interpretation of the integration error as the series' **remainder**\n",
    "* Excellent **performance** and **accuracy**"
   ]
  },
  {
   "cell_type": "markdown",
   "id": "c37c5a94",
   "metadata": {
    "slideshow": {
     "slide_type": "slide"
    }
   },
   "source": [
    "<center><img style=\"width:75%;\" src=\"t_series.png\"></center>"
   ]
  },
  {
   "cell_type": "markdown",
   "id": "dcb45d90",
   "metadata": {
    "slideshow": {
     "slide_type": "slide"
    }
   },
   "source": [
    "# However...\n",
    "* Taylor methods are **not** widely used"
   ]
  },
  {
   "cell_type": "markdown",
   "id": "8cca5f89",
   "metadata": {
    "slideshow": {
     "slide_type": "fragment"
    }
   },
   "source": [
    "# Implementation difficulties\n",
    "\n",
    "* Taylor methods need the **high-order derivatives** of the ODEs\n",
    "* Explicit formulae for the derivatives have **exponential** complexity"
   ]
  },
  {
   "cell_type": "markdown",
   "id": "dd1f0c4b",
   "metadata": {
    "slideshow": {
     "slide_type": "fragment"
    }
   },
   "source": [
    "# Solutions\n",
    "\n",
    "* Small, self-contained **symbolic expression engine**\n",
    "* High-order **automatic-differentiation** (AD)"
   ]
  },
  {
   "cell_type": "markdown",
   "id": "1920a765",
   "metadata": {
    "slideshow": {
     "slide_type": "slide"
    }
   },
   "source": [
    "# heyoka\n",
    "\n",
    "* Open-source project\n",
    "* Usable from C++ and Python\n",
    "* Uses a just-in-time compilation approach\n",
    "* Supports vector instructions and extended precision computations (80-bit and 128-bit)\n",
    "* Accurate and efficient event detection (**NEW**)"
   ]
  },
  {
   "cell_type": "markdown",
   "id": "64ffcfb8",
   "metadata": {
    "slideshow": {
     "slide_type": "slide"
    }
   },
   "source": [
    "# References\n",
    "\n",
    "* *Revisiting high-order Taylor methods for astrodynamics and celestial mechanics*, Francesco Biscani, Dario Izzo,\n",
    " MNRAS, Volume 504, Issue 2, June 2021\n",
    "* https://github.com/bluescarni/heyoka (C++)\n",
    "* https://github.com/bluescarni/heyoka.py (Python)"
   ]
  },
  {
   "cell_type": "markdown",
   "id": "659f3c98",
   "metadata": {
    "slideshow": {
     "slide_type": "slide"
    }
   },
   "source": [
    "# How can we trust numerical integrations?"
   ]
  },
  {
   "cell_type": "markdown",
   "id": "0224d1a5",
   "metadata": {
    "slideshow": {
     "slide_type": "fragment"
    }
   },
   "source": [
    "* No mathematical ground truth to compare to (in general)"
   ]
  },
  {
   "cell_type": "markdown",
   "id": "3ae656e2",
   "metadata": {
    "slideshow": {
     "slide_type": "fragment"
    }
   },
   "source": [
    "* Comparison with exact solutions for **simple** systems (2BP, pendulum, ...)"
   ]
  },
  {
   "cell_type": "markdown",
   "id": "b2e2e109",
   "metadata": {
    "slideshow": {
     "slide_type": "fragment"
    }
   },
   "source": [
    "* Monitor the conservation of dynamical **invariants** (energy, momentum, ...) → necessary but not sufficient"
   ]
  },
  {
   "cell_type": "markdown",
   "id": "26054eb1",
   "metadata": {
    "slideshow": {
     "slide_type": "fragment"
    }
   },
   "source": [
    "* **Symplectic** integrators built around the conservation of dynamical invariants\n",
    "* It is assumed that the conservation of dynamical invariants reflects on the conservation of **qualitative** features of the system (e.g., long-term stability)"
   ]
  },
  {
   "cell_type": "markdown",
   "id": "6dfcd7e5",
   "metadata": {
    "slideshow": {
     "slide_type": "fragment"
    }
   },
   "source": [
    "* Deterministic **chaos**"
   ]
  },
  {
   "cell_type": "markdown",
   "id": "1266d8c6",
   "metadata": {
    "slideshow": {
     "slide_type": "slide"
    }
   },
   "source": [
    "# What is the best we can hope for?"
   ]
  },
  {
   "cell_type": "markdown",
   "id": "6f6a4cc6",
   "metadata": {
    "slideshow": {
     "slide_type": "fragment"
    }
   },
   "source": [
    "* All integrators implemented on a computer are subject to **floating-point** rounding errors"
   ]
  },
  {
   "cell_type": "markdown",
   "id": "3fefb859",
   "metadata": {
    "slideshow": {
     "slide_type": "fragment"
    }
   },
   "source": [
    "* In an **optimal** integrator the floating-point error dominates over all other sources of error"
   ]
  },
  {
   "cell_type": "markdown",
   "id": "cb27852c",
   "metadata": {
    "slideshow": {
     "slide_type": "fragment"
    }
   },
   "source": [
    "* Brouwer's law: the energy error cannot grow slower than $\\sim \\sqrt{t}$"
   ]
  },
  {
   "cell_type": "markdown",
   "id": "61aac2a4",
   "metadata": {
    "slideshow": {
     "slide_type": "fragment"
    }
   },
   "source": [
    "* Symplectic integrators obey Brouwer's law by construction"
   ]
  },
  {
   "cell_type": "markdown",
   "id": "924eb04c",
   "metadata": {
    "slideshow": {
     "slide_type": "fragment"
    }
   },
   "source": [
    "* Recent interest in optimal **non**-symplectic integrators: IAS15 (REBOUND)"
   ]
  },
  {
   "cell_type": "markdown",
   "id": "0d0b77c7",
   "metadata": {
    "slideshow": {
     "slide_type": "fragment"
    }
   },
   "source": [
    "* Taylor's method is also an **optimal** **non**-symplectic integration algorithm"
   ]
  },
  {
   "cell_type": "markdown",
   "id": "50600e0c",
   "metadata": {
    "slideshow": {
     "slide_type": "slide"
    }
   },
   "source": [
    "# Example 1: long-term integration of the outer Solar System\n",
    "\n",
    "* 6-body problem: Sun, Jupiter, Saturn, Uranus, Neptune and Pluto\n",
    "* Total integration time: $\\sim 10\\,\\mathrm{Gy}$ ($\\sim 10^9$ dynamical timescales)\n",
    "* Integrate a set of 20 slightly perturbed realisations of the same initial conditions\n",
    "* Dynamically stable over the integration period (no close encounters or collisions)\n",
    "* Monitor energy conservation"
   ]
  },
  {
   "cell_type": "markdown",
   "id": "739cb70f",
   "metadata": {
    "slideshow": {
     "slide_type": "slide"
    }
   },
   "source": [
    "<center><img style=\"width:75%;\" src=\"outer_ss_lt.png\"></center>"
   ]
  },
  {
   "cell_type": "markdown",
   "id": "23437e39",
   "metadata": {
    "slideshow": {
     "slide_type": "slide"
    }
   },
   "source": [
    "# Performance comparison\n",
    "\n",
    "* $\\sim 14.9\\,\\mathrm{s}/\\mathrm{My}$ heyoka vs $\\sim 58.7\\,\\mathrm{s}/\\mathrm{My}$ for IAS15 → $\\sim 3.9\\times$ performance increase\n",
    "* Further $\\sim 3.3\\times$ increase in batch mode"
   ]
  },
  {
   "cell_type": "markdown",
   "id": "0f363d0f",
   "metadata": {
    "slideshow": {
     "slide_type": "slide"
    }
   },
   "source": [
    "# Example 2: formation of the Kirkwood gaps\n",
    "\n",
    "* Gaps in the distribution of the asteroids' semi-major axes in correspondence of MMRs with Jupiter\n",
    "* Caused by the overlapping of MMRs with secular resonances\n",
    "* Increase in eccentricity leads to planetary close encounters or hitting the Sun → removal from the gap"
   ]
  },
  {
   "cell_type": "markdown",
   "id": "b8f8eae8",
   "metadata": {
    "slideshow": {
     "slide_type": "fragment"
    }
   },
   "source": [
    "* Accurate modelling of long-term dynamics **and** close encounters\n",
    "* Randomly-generate ~25000 asteroids in the belt, low eccentricity and inclination\n",
    "* Sun-Jupiter-Saturn 3BP + rocky planets in fixed circular orbits + asteroids as point masses"
   ]
  },
  {
   "cell_type": "code",
   "execution_count": 6,
   "id": "912f3f9e",
   "metadata": {
    "scrolled": true,
    "slideshow": {
     "slide_type": "slide"
    }
   },
   "outputs": [
    {
     "data": {
      "image/jpeg": "[encoded data removed]",
      "text/html": [
       "\n",
       "        <iframe\n",
       "            width=\"1200.0\"\n",
       "            height=\"900.0\"\n",
       "            src=\"https://www.youtube.com/embed/LF1jx3z5Qnc\"\n",
       "            frameborder=\"0\"\n",
       "            allowfullscreen\n",
       "        ></iframe>\n",
       "        "
      ],
      "text/plain": [
       "<IPython.lib.display.YouTubeVideo at 0x7fe9c0c7f490>"
      ]
     },
     "execution_count": 6,
     "metadata": {},
     "output_type": "execute_result"
    }
   ],
   "source": [
    "from IPython.display import YouTubeVideo\n",
    "\n",
    "YouTubeVideo('LF1jx3z5Qnc', width=800*1.5, height=600*1.5)"
   ]
  },
  {
   "cell_type": "markdown",
   "id": "155a9653",
   "metadata": {
    "slideshow": {
     "slide_type": "slide"
    }
   },
   "source": [
    "# Example 3: planetary embryos in the inner Solar System\n",
    "\n",
    "* 30 embryos in orbits between 0.5 and 1.2 AU\n",
    "* Masses between 0.2 Earth masses and 0.6 Lunar masses\n",
    "* Purely gravitational setup (no disk)\n",
    "* Goal: track close encounters between the embryos"
   ]
  },
  {
   "cell_type": "markdown",
   "id": "d7227139",
   "metadata": {
    "slideshow": {
     "slide_type": "slide"
    }
   },
   "source": [
    "# Detecting close encounters\n",
    "\n",
    "Mutual distance between pairs of embryos:\n",
    "\n",
    "$$\n",
    "D_{ij}\\left( t \\right) = \\left[ x_i\\left( t \\right) - x_j\\left( t \\right) \\right]^2 +\n",
    "\\left[ y_i\\left( t \\right) - y_j\\left( t \\right) \\right]^2 +\n",
    "\\left[ z_i\\left( t \\right) - z_j\\left( t \\right) \\right]^2\n",
    "$$\n"
   ]
  },
  {
   "cell_type": "markdown",
   "id": "43a96a32",
   "metadata": {
    "slideshow": {
     "slide_type": "fragment"
    }
   },
   "source": [
    "Take the time derivative:\n",
    "\n",
    "$$\n",
    "\\frac{dD_{ij}\\left( t \\right)}{dt}  = 2\\left[ x_i\\left( t \\right) - x_j\\left( t \\right) \\right]\\left[ v_{xi}\\left( t \\right) - v_{xj}\\left( t \\right) \\right]\n",
    " +2\\left[ y_i\\left( t \\right) - y_j\\left( t \\right) \\right]\\left[ v_{yi}\\left( t \\right) - v_{yj}\\left( t \\right) \\right]\\\\\n",
    " +2\\left[ z_i\\left( t \\right) - z_j\\left( t \\right) \\right]\\left[ v_{zi}\\left( t \\right) - v_{zj}\\left( t \\right) \\right]\n",
    "$$"
   ]
  },
  {
   "cell_type": "markdown",
   "id": "0e8fa462",
   "metadata": {
    "slideshow": {
     "slide_type": "fragment"
    }
   },
   "source": [
    "Distance minima/maxima given by the event equation:\n",
    "\n",
    "$$\n",
    "\\frac{dD_{ij}\\left( t \\right)}{dt} = 0\n",
    "$$"
   ]
  },
  {
   "cell_type": "markdown",
   "id": "f11307b1",
   "metadata": {
    "slideshow": {
     "slide_type": "slide"
    }
   },
   "source": [
    "# Cumulative number of close encounters\n",
    "\n",
    "<center><img style=\"width:85%;\" src=\"e_dist.png\"></center>"
   ]
  },
  {
   "cell_type": "markdown",
   "id": "beab12ca",
   "metadata": {
    "slideshow": {
     "slide_type": "slide"
    }
   },
   "source": [
    "# Evolution of the semi-major axes\n",
    "\n",
    "<center><img style=\"width:70%;\" src=\"a_hist.png\"></center>"
   ]
  }
 ],
 "metadata": {
  "celltoolbar": "Slideshow",
  "kernelspec": {
   "display_name": "Python 3",
   "language": "python",
   "name": "python3"
  },
  "language_info": {
   "codemirror_mode": {
    "name": "ipython",
    "version": 3
   },
   "file_extension": ".py",
   "mimetype": "text/x-python",
   "name": "python",
   "nbconvert_exporter": "python",
   "pygments_lexer": "ipython3",
   "version": "3.9.4"
  }
 },
 "nbformat": 4,
 "nbformat_minor": 5
}
